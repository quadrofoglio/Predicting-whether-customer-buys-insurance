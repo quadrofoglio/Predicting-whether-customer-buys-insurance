{
 "cells": [
  {
   "cell_type": "code",
   "execution_count": 1,
   "metadata": {},
   "outputs": [],
   "source": [
    "import numpy as np\n",
    "import pandas as pd\n",
    "import matplotlib.pyplot as plt\n",
    "import seaborn as sns"
   ]
  },
  {
   "cell_type": "code",
   "execution_count": 2,
   "metadata": {},
   "outputs": [],
   "source": [
    "train = pd.read_csv(\"Project2_Train.csv\")\n",
    "test = pd.read_csv(\"Project2_Test.csv\")"
   ]
  },
  {
   "cell_type": "markdown",
   "metadata": {},
   "source": [
    "# Data Preprocessing"
   ]
  },
  {
   "cell_type": "code",
   "execution_count": 3,
   "metadata": {},
   "outputs": [
    {
     "data": {
      "text/plain": [
       "id                 int64\n",
       "Gender            object\n",
       "Age                int64\n",
       "Region_Code        int64\n",
       "Vehicle_Age       object\n",
       "Vehicle_Damage    object\n",
       "Annual_Premium     int64\n",
       "Vintage            int64\n",
       "Response           int64\n",
       "dtype: object"
      ]
     },
     "execution_count": 3,
     "metadata": {},
     "output_type": "execute_result"
    }
   ],
   "source": [
    "train.dtypes"
   ]
  },
  {
   "cell_type": "code",
   "execution_count": 4,
   "metadata": {},
   "outputs": [],
   "source": [
    "vars_to_drop = ['id']\n",
    "label = ['Response']\n",
    "cat_vars = ['Gender', 'Region_Code', 'Vehicle_Age',\n",
    "           'Vehicle_Damage']\n",
    "num_vars = ['Age','Annual_Premium','Vintage']"
   ]
  },
  {
   "cell_type": "code",
   "execution_count": 5,
   "metadata": {},
   "outputs": [
    {
     "data": {
      "text/html": [
       "<div>\n",
       "<style scoped>\n",
       "    .dataframe tbody tr th:only-of-type {\n",
       "        vertical-align: middle;\n",
       "    }\n",
       "\n",
       "    .dataframe tbody tr th {\n",
       "        vertical-align: top;\n",
       "    }\n",
       "\n",
       "    .dataframe thead th {\n",
       "        text-align: right;\n",
       "    }\n",
       "</style>\n",
       "<table border=\"1\" class=\"dataframe\">\n",
       "  <thead>\n",
       "    <tr style=\"text-align: right;\">\n",
       "      <th></th>\n",
       "      <th>id</th>\n",
       "      <th>Gender</th>\n",
       "      <th>Age</th>\n",
       "      <th>Region_Code</th>\n",
       "      <th>Vehicle_Age</th>\n",
       "      <th>Vehicle_Damage</th>\n",
       "      <th>Annual_Premium</th>\n",
       "      <th>Vintage</th>\n",
       "      <th>Response</th>\n",
       "    </tr>\n",
       "  </thead>\n",
       "  <tbody>\n",
       "    <tr>\n",
       "      <th>0</th>\n",
       "      <td>319654</td>\n",
       "      <td>Male</td>\n",
       "      <td>22</td>\n",
       "      <td>46</td>\n",
       "      <td>&lt; 1 Year</td>\n",
       "      <td>Yes</td>\n",
       "      <td>29719</td>\n",
       "      <td>79</td>\n",
       "      <td>0</td>\n",
       "    </tr>\n",
       "    <tr>\n",
       "      <th>1</th>\n",
       "      <td>298528</td>\n",
       "      <td>Female</td>\n",
       "      <td>40</td>\n",
       "      <td>28</td>\n",
       "      <td>1-2 Year</td>\n",
       "      <td>Yes</td>\n",
       "      <td>29645</td>\n",
       "      <td>99</td>\n",
       "      <td>0</td>\n",
       "    </tr>\n",
       "    <tr>\n",
       "      <th>2</th>\n",
       "      <td>120858</td>\n",
       "      <td>Male</td>\n",
       "      <td>25</td>\n",
       "      <td>28</td>\n",
       "      <td>1-2 Year</td>\n",
       "      <td>Yes</td>\n",
       "      <td>35996</td>\n",
       "      <td>266</td>\n",
       "      <td>1</td>\n",
       "    </tr>\n",
       "    <tr>\n",
       "      <th>3</th>\n",
       "      <td>234326</td>\n",
       "      <td>Female</td>\n",
       "      <td>25</td>\n",
       "      <td>29</td>\n",
       "      <td>&lt; 1 Year</td>\n",
       "      <td>No</td>\n",
       "      <td>56899</td>\n",
       "      <td>25</td>\n",
       "      <td>0</td>\n",
       "    </tr>\n",
       "    <tr>\n",
       "      <th>4</th>\n",
       "      <td>372307</td>\n",
       "      <td>Female</td>\n",
       "      <td>70</td>\n",
       "      <td>28</td>\n",
       "      <td>1-2 Year</td>\n",
       "      <td>No</td>\n",
       "      <td>47452</td>\n",
       "      <td>189</td>\n",
       "      <td>0</td>\n",
       "    </tr>\n",
       "  </tbody>\n",
       "</table>\n",
       "</div>"
      ],
      "text/plain": [
       "       id  Gender  Age  Region_Code Vehicle_Age Vehicle_Damage  \\\n",
       "0  319654    Male   22           46    < 1 Year            Yes   \n",
       "1  298528  Female   40           28    1-2 Year            Yes   \n",
       "2  120858    Male   25           28    1-2 Year            Yes   \n",
       "3  234326  Female   25           29    < 1 Year             No   \n",
       "4  372307  Female   70           28    1-2 Year             No   \n",
       "\n",
       "   Annual_Premium  Vintage  Response  \n",
       "0           29719       79         0  \n",
       "1           29645       99         0  \n",
       "2           35996      266         1  \n",
       "3           56899       25         0  \n",
       "4           47452      189         0  "
      ]
     },
     "execution_count": 5,
     "metadata": {},
     "output_type": "execute_result"
    }
   ],
   "source": [
    "train.head(5)"
   ]
  },
  {
   "cell_type": "code",
   "execution_count": 6,
   "metadata": {},
   "outputs": [
    {
     "name": "stdout",
     "output_type": "stream",
     "text": [
      "Gender            category\n",
      "Age                  int64\n",
      "Region_Code       category\n",
      "Vehicle_Age       category\n",
      "Vehicle_Damage    category\n",
      "Annual_Premium       int64\n",
      "Vintage              int64\n",
      "Response              bool\n",
      "dtype: object\n",
      "Gender            category\n",
      "Age                  int64\n",
      "Region_Code       category\n",
      "Vehicle_Age       category\n",
      "Vehicle_Damage    category\n",
      "Annual_Premium       int64\n",
      "Vintage              int64\n",
      "Response              bool\n",
      "dtype: object\n"
     ]
    }
   ],
   "source": [
    "# Drop 'id'\n",
    "train = train.drop(columns = vars_to_drop)\n",
    "train.head(1)\n",
    "\n",
    "# Remap Vehicle_Damage to 1,0 and convert to Boolean\n",
    "train['Gender'] = train['Gender'].astype('category')\n",
    "train['Vehicle_Damage'] = train['Vehicle_Damage'].map( {'No': 0, 'Yes': 1} ).astype(bool)\n",
    "train['Response'] = train['Response'].astype(bool)\n",
    "\n",
    "# Convert Gender, Region_Code, Vehicle_Age, Vehicle_Damage to categorical\n",
    "for i in cat_vars:\n",
    "    train[i] = train[i].astype('category')\n",
    "    \n",
    "# double check data type\n",
    "print(train.dtypes)\n",
    "\n",
    "# Drop 'id'\n",
    "test = test.drop(columns = vars_to_drop)\n",
    "\n",
    "# Remap Vehicle_Damage to 1,0 and convert to Boolean\n",
    "test['Gender'] = test['Gender'].astype('category')\n",
    "test['Vehicle_Damage'] = test['Vehicle_Damage'].map( {'No': 0, 'Yes': 1} ).astype(bool)\n",
    "test['Response'] = test['Response'].astype(bool)\n",
    "\n",
    "# Convert Gender, Region_Code, Vehicle_Age, Vehicle_Damage to categorical\n",
    "for i in cat_vars:\n",
    "    test[i] = test[i].astype('category')\n",
    "    \n",
    "# double check data type\n",
    "print(test.dtypes)"
   ]
  },
  {
   "cell_type": "markdown",
   "metadata": {},
   "source": [
    "- Use MinMaxScaler as your default\n",
    "- Use RobustScaler if you have outliers and can handle a larger range\n",
    "- Use StandardScaler if you need normalized features\n",
    "- Use Normalizer sparingly - it normalizes rows, not columns"
   ]
  },
  {
   "cell_type": "code",
   "execution_count": 7,
   "metadata": {},
   "outputs": [],
   "source": [
    "from sklearn.preprocessing import MinMaxScaler, StandardScaler\n",
    "\n",
    "# Standard Scale Age, Vintage\n",
    "ss = StandardScaler()\n",
    "train[['Age', 'Vintage']] = ss.fit_transform(train[['Age', 'Vintage']])\n",
    "\n",
    "# Min Max Scale 'Annual Premium'\n",
    "mm = MinMaxScaler()\n",
    "train[['Annual_Premium']] = mm.fit_transform(train[['Annual_Premium']])\n",
    "\n",
    "test[['Age', 'Vintage']] = ss.fit_transform(test[['Age', 'Vintage']])\n",
    "test[['Annual_Premium']] = mm.fit_transform(test[['Annual_Premium']])"
   ]
  },
  {
   "cell_type": "markdown",
   "metadata": {},
   "source": [
    "Need to do variable encoding before fitting in sklearn models."
   ]
  },
  {
   "cell_type": "code",
   "execution_count": 8,
   "metadata": {},
   "outputs": [],
   "source": [
    "train.head(1)\n",
    "\n",
    "# OneHotEncode Gender, Region_Code, Vehicle_Age, Vehicle_Damage, Response\n",
    "train = pd.get_dummies(train, columns = ['Region_Code',  'Vehicle_Age'])\n",
    "train = pd.get_dummies(train, columns = ['Vehicle_Damage','Response','Gender'],drop_first=True)"
   ]
  },
  {
   "cell_type": "code",
   "execution_count": 9,
   "metadata": {},
   "outputs": [
    {
     "data": {
      "text/html": [
       "<div>\n",
       "<style scoped>\n",
       "    .dataframe tbody tr th:only-of-type {\n",
       "        vertical-align: middle;\n",
       "    }\n",
       "\n",
       "    .dataframe tbody tr th {\n",
       "        vertical-align: top;\n",
       "    }\n",
       "\n",
       "    .dataframe thead th {\n",
       "        text-align: right;\n",
       "    }\n",
       "</style>\n",
       "<table border=\"1\" class=\"dataframe\">\n",
       "  <thead>\n",
       "    <tr style=\"text-align: right;\">\n",
       "      <th></th>\n",
       "      <th>Age</th>\n",
       "      <th>Annual_Premium</th>\n",
       "      <th>Vintage</th>\n",
       "      <th>Region_Code_3</th>\n",
       "      <th>Region_Code_8</th>\n",
       "      <th>Region_Code_11</th>\n",
       "      <th>Region_Code_15</th>\n",
       "      <th>Region_Code_28</th>\n",
       "      <th>Region_Code_29</th>\n",
       "      <th>Region_Code_30</th>\n",
       "      <th>Region_Code_41</th>\n",
       "      <th>Region_Code_46</th>\n",
       "      <th>Region_Code_50</th>\n",
       "      <th>Vehicle_Age_1-2 Year</th>\n",
       "      <th>Vehicle_Age_&lt; 1 Year</th>\n",
       "      <th>Vehicle_Age_&gt; 2 Years</th>\n",
       "      <th>Vehicle_Damage_True</th>\n",
       "      <th>Response_True</th>\n",
       "      <th>Gender_Male</th>\n",
       "    </tr>\n",
       "  </thead>\n",
       "  <tbody>\n",
       "    <tr>\n",
       "      <th>0</th>\n",
       "      <td>-1.130338</td>\n",
       "      <td>0.067683</td>\n",
       "      <td>-0.891436</td>\n",
       "      <td>0</td>\n",
       "      <td>0</td>\n",
       "      <td>0</td>\n",
       "      <td>0</td>\n",
       "      <td>0</td>\n",
       "      <td>0</td>\n",
       "      <td>0</td>\n",
       "      <td>0</td>\n",
       "      <td>1</td>\n",
       "      <td>0</td>\n",
       "      <td>0</td>\n",
       "      <td>1</td>\n",
       "      <td>0</td>\n",
       "      <td>1</td>\n",
       "      <td>0</td>\n",
       "      <td>1</td>\n",
       "    </tr>\n",
       "  </tbody>\n",
       "</table>\n",
       "</div>"
      ],
      "text/plain": [
       "        Age  Annual_Premium   Vintage  Region_Code_3  Region_Code_8  \\\n",
       "0 -1.130338        0.067683 -0.891436              0              0   \n",
       "\n",
       "   Region_Code_11  Region_Code_15  Region_Code_28  Region_Code_29  \\\n",
       "0               0               0               0               0   \n",
       "\n",
       "   Region_Code_30  Region_Code_41  Region_Code_46  Region_Code_50  \\\n",
       "0               0               0               1               0   \n",
       "\n",
       "   Vehicle_Age_1-2 Year  Vehicle_Age_< 1 Year  Vehicle_Age_> 2 Years  \\\n",
       "0                     0                     1                      0   \n",
       "\n",
       "   Vehicle_Damage_True  Response_True  Gender_Male  \n",
       "0                    1              0            1  "
      ]
     },
     "execution_count": 9,
     "metadata": {},
     "output_type": "execute_result"
    }
   ],
   "source": [
    "train.head(1)"
   ]
  },
  {
   "cell_type": "code",
   "execution_count": 10,
   "metadata": {},
   "outputs": [],
   "source": [
    "test = pd.get_dummies(test, columns = ['Region_Code',  'Vehicle_Age'])\n",
    "test = pd.get_dummies(test, columns = ['Vehicle_Damage','Response','Gender'],drop_first=True)"
   ]
  },
  {
   "cell_type": "code",
   "execution_count": 11,
   "metadata": {},
   "outputs": [
    {
     "data": {
      "text/html": [
       "<div>\n",
       "<style scoped>\n",
       "    .dataframe tbody tr th:only-of-type {\n",
       "        vertical-align: middle;\n",
       "    }\n",
       "\n",
       "    .dataframe tbody tr th {\n",
       "        vertical-align: top;\n",
       "    }\n",
       "\n",
       "    .dataframe thead th {\n",
       "        text-align: right;\n",
       "    }\n",
       "</style>\n",
       "<table border=\"1\" class=\"dataframe\">\n",
       "  <thead>\n",
       "    <tr style=\"text-align: right;\">\n",
       "      <th></th>\n",
       "      <th>Age</th>\n",
       "      <th>Annual_Premium</th>\n",
       "      <th>Vintage</th>\n",
       "      <th>Region_Code_3</th>\n",
       "      <th>Region_Code_8</th>\n",
       "      <th>Region_Code_11</th>\n",
       "      <th>Region_Code_15</th>\n",
       "      <th>Region_Code_28</th>\n",
       "      <th>Region_Code_29</th>\n",
       "      <th>Region_Code_30</th>\n",
       "      <th>Region_Code_41</th>\n",
       "      <th>Region_Code_46</th>\n",
       "      <th>Region_Code_50</th>\n",
       "      <th>Vehicle_Age_1-2 Year</th>\n",
       "      <th>Vehicle_Age_&lt; 1 Year</th>\n",
       "      <th>Vehicle_Age_&gt; 2 Years</th>\n",
       "      <th>Vehicle_Damage_True</th>\n",
       "      <th>Response_True</th>\n",
       "      <th>Gender_Male</th>\n",
       "    </tr>\n",
       "  </thead>\n",
       "  <tbody>\n",
       "    <tr>\n",
       "      <th>0</th>\n",
       "      <td>-1.013281</td>\n",
       "      <td>0.0</td>\n",
       "      <td>1.413028</td>\n",
       "      <td>0</td>\n",
       "      <td>0</td>\n",
       "      <td>0</td>\n",
       "      <td>0</td>\n",
       "      <td>1</td>\n",
       "      <td>0</td>\n",
       "      <td>0</td>\n",
       "      <td>0</td>\n",
       "      <td>0</td>\n",
       "      <td>0</td>\n",
       "      <td>0</td>\n",
       "      <td>1</td>\n",
       "      <td>0</td>\n",
       "      <td>1</td>\n",
       "      <td>0</td>\n",
       "      <td>0</td>\n",
       "    </tr>\n",
       "  </tbody>\n",
       "</table>\n",
       "</div>"
      ],
      "text/plain": [
       "        Age  Annual_Premium   Vintage  Region_Code_3  Region_Code_8  \\\n",
       "0 -1.013281             0.0  1.413028              0              0   \n",
       "\n",
       "   Region_Code_11  Region_Code_15  Region_Code_28  Region_Code_29  \\\n",
       "0               0               0               1               0   \n",
       "\n",
       "   Region_Code_30  Region_Code_41  Region_Code_46  Region_Code_50  \\\n",
       "0               0               0               0               0   \n",
       "\n",
       "   Vehicle_Age_1-2 Year  Vehicle_Age_< 1 Year  Vehicle_Age_> 2 Years  \\\n",
       "0                     0                     1                      0   \n",
       "\n",
       "   Vehicle_Damage_True  Response_True  Gender_Male  \n",
       "0                    1              0            0  "
      ]
     },
     "execution_count": 11,
     "metadata": {},
     "output_type": "execute_result"
    }
   ],
   "source": [
    "test.head(1)"
   ]
  },
  {
   "cell_type": "markdown",
   "metadata": {},
   "source": [
    "Split training into train & validation sets"
   ]
  },
  {
   "cell_type": "code",
   "execution_count": 12,
   "metadata": {},
   "outputs": [],
   "source": [
    "from sklearn.model_selection import train_test_split\n",
    "\n",
    "# Split into target and covariates\n",
    "train_target = train['Response_True']\n",
    "train_cov = train.drop(['Response_True'], axis = 1)\n",
    "\n",
    "test_target = test['Response_True']\n",
    "test_cov = test.drop(['Response_True'], axis = 1)"
   ]
  },
  {
   "cell_type": "code",
   "execution_count": 13,
   "metadata": {},
   "outputs": [],
   "source": [
    "# split training sets into training and validation sets\n",
    "x_train, x_test, y_train, y_test = train_test_split(train_cov,\n",
    "                                                   train_target,\n",
    "                                                   stratify = train_cov['Gender_Male'])"
   ]
  },
  {
   "cell_type": "markdown",
   "metadata": {},
   "source": [
    "# Random Forest Classifier"
   ]
  },
  {
   "cell_type": "code",
   "execution_count": 14,
   "metadata": {},
   "outputs": [],
   "source": [
    "from sklearn.model_selection import RandomizedSearchCV, cross_val_score, GridSearchCV\n",
    "from sklearn.ensemble import RandomForestClassifier\n",
    "\n",
    "# Initiate random forest classifier\n",
    "rf = RandomForestClassifier()"
   ]
  },
  {
   "cell_type": "code",
   "execution_count": 15,
   "metadata": {},
   "outputs": [],
   "source": [
    "param_grid = { \n",
    "    'n_estimators': np.linspace(start = 200, stop = 1000, num = 5, dtype = 'int64'),\n",
    "    'max_features': ['auto', 'sqrt', 'log2'],\n",
    "    'max_depth' : np.linspace(2, 8,num = 7,dtype = 'int64'),\n",
    "    #'min_samples_leaf': [4, 6, 8],\n",
    "    #'min_samples_split': [5, 7,10],\n",
    "    'class_weight':[\"balanced\", \"balanced_subsample\",None]\n",
    "    #'bootstrap': [True, False]\n",
    "}\n",
    "\n",
    "\n",
    "rf_random = GridSearchCV(estimator = rf, \n",
    "                               param_grid = param_grid,\n",
    "                               scoring = 'roc_auc',\n",
    "                               #n_iter = n_models, \n",
    "                               cv = 5, \n",
    "                               n_jobs = -1,\n",
    "                              return_train_score = True)"
   ]
  },
  {
   "cell_type": "code",
   "execution_count": 16,
   "metadata": {},
   "outputs": [],
   "source": [
    "# this takes very long to run. \n",
    "\n",
    "# rf_random.fit(x_train, y_train)\n",
    "# rf_random.best_params_"
   ]
  },
  {
   "cell_type": "markdown",
   "metadata": {},
   "source": [
    "Use predict_proba instead of predict to change threshold\n",
    "\n",
    "https://stackoverflow.com/questions/57307095/change-threshold-value-for-random-forest-classifier\n",
    "\n",
    "- y_pred = clf.predict(X_test)  # default threshold is 0.5\n",
    "\n",
    "- y_pred = (clf.predict_proba(X_test)[:,1] >= 0.3).astype(bool) # set threshold as 0.3"
   ]
  },
  {
   "cell_type": "code",
   "execution_count": 17,
   "metadata": {},
   "outputs": [],
   "source": [
    "from sklearn.metrics import f1_score, roc_auc_score,accuracy_score,confusion_matrix, precision_recall_curve, auc, roc_curve, recall_score, classification_report \n",
    "\n",
    "# class_weight = 'balanced' to help counter imbalanced class problem\n",
    "rf_clf = RandomForestClassifier(n_estimators=200, max_features= 'auto', \n",
    "                                max_depth= 6, min_samples_leaf = 8, \n",
    "                                min_samples_split = 7, class_weight = 'balanced') \n",
    "rf_clf.fit(train_cov,train_target)\n",
    "\n",
    "#test_target #test_cov\n",
    "pred = rf_clf.predict(test_cov)"
   ]
  },
  {
   "cell_type": "markdown",
   "metadata": {},
   "source": [
    "**Precision** : ability of a classifier not to label an instance positive that is actually negative. (i.e. accuracy of positive predictions)\n",
    "\n",
    "For each class, defined as ratio of true positives, to dum of true positives and false positives.\n",
    "\n",
    "= TP / (TP + FP)\n",
    "\n",
    "**Recall** : ability of a classifier to find all positive instances (i.e. fraction of positives that were correctly identified)\n",
    "\n",
    "For each class it is defined as the ratio of true positives to the sum of true positives and false negatives.\n",
    "\n",
    "= TP/(TP+FN)\n"
   ]
  },
  {
   "cell_type": "markdown",
   "metadata": {},
   "source": [
    "##  Importance Plot"
   ]
  },
  {
   "cell_type": "code",
   "execution_count": 18,
   "metadata": {},
   "outputs": [
    {
     "data": {
      "image/png": "[encoded data removed]",
      "text/plain": [
       "<Figure size 432x288 with 1 Axes>"
      ]
     },
     "metadata": {
      "needs_background": "light"
     },
     "output_type": "display_data"
    }
   ],
   "source": [
    "# Create a pd.Series of features importances\n",
    "importances = pd.Series(data=rf_clf.feature_importances_,\n",
    "                        index= x_train.columns)\n",
    "\n",
    "# Sort importances\n",
    "importances_sorted = importances.sort_values()\n",
    "\n",
    "# Draw a horizontal barplot of importances_sorted\n",
    "importances_sorted.plot(kind='barh', color='lightgreen')\n",
    "plt.title('Features Importances')\n",
    "plt.show()"
   ]
  },
  {
   "cell_type": "markdown",
   "metadata": {},
   "source": [
    "### Performance of random forest on training set"
   ]
  },
  {
   "cell_type": "code",
   "execution_count": 19,
   "metadata": {},
   "outputs": [
    {
     "name": "stdout",
     "output_type": "stream",
     "text": [
      "              precision    recall  f1-score   support\n",
      "\n",
      "           0       0.99      0.65      0.79      6506\n",
      "           1       0.29      0.95      0.45       994\n",
      "\n",
      "    accuracy                           0.69      7500\n",
      "   macro avg       0.64      0.80      0.62      7500\n",
      "weighted avg       0.90      0.69      0.74      7500\n",
      "\n",
      "[[4246 2260]\n",
      " [  51  943]]\n",
      "\n",
      "\n",
      "Area under curve: 0.8628070296973975\n"
     ]
    }
   ],
   "source": [
    "#x_train, x_test, y_train, y_test\n",
    "\n",
    "rf_clf.fit(x_train,y_train)\n",
    "pred = rf_clf.predict(x_train)\n",
    "print(classification_report(y_train, pred))\n",
    "y_score = rf_clf.predict_proba(x_train)[:,1]\n",
    "confu_mat_rf = confusion_matrix(y_train, pred)\n",
    "print(confu_mat_rf)\n",
    "print('\\n')\n",
    "print('Area under curve:', roc_auc_score(y_train, y_score))"
   ]
  },
  {
   "cell_type": "markdown",
   "metadata": {},
   "source": [
    "### Performance of random forest on validation set"
   ]
  },
  {
   "cell_type": "markdown",
   "metadata": {},
   "source": [
    "From the confusion matrix, it looked like the random forest classifier was able to pick out most of the positives correctly (287) on the validation set. However, this came at a cost of performing poorly on \n",
    "\n",
    "The AUC score is 0.815 on validation set"
   ]
  },
  {
   "cell_type": "code",
   "execution_count": 20,
   "metadata": {},
   "outputs": [
    {
     "name": "stdout",
     "output_type": "stream",
     "text": [
      "              precision    recall  f1-score   support\n",
      "\n",
      "           0       0.98      0.64      0.78      2168\n",
      "           1       0.29      0.93      0.44       332\n",
      "\n",
      "    accuracy                           0.68      2500\n",
      "   macro avg       0.63      0.79      0.61      2500\n",
      "weighted avg       0.89      0.68      0.73      2500\n",
      "\n",
      "[[1393  775]\n",
      " [  23  309]]\n",
      "\n",
      "\n",
      "Area under curve: 0.8154266049437603\n"
     ]
    }
   ],
   "source": [
    "#x_train, x_test, y_train, y_test\n",
    "\n",
    "rf_clf.fit(x_train,y_train)\n",
    "pred = rf_clf.predict(x_test)\n",
    "print(classification_report(y_test, pred))\n",
    "y_score = rf_clf.predict_proba(x_test)[:,1]\n",
    "confu_mat_rf = confusion_matrix(y_test, pred)\n",
    "print(confu_mat_rf)\n",
    "print('\\n')\n",
    "print('Area under curve:', roc_auc_score(y_test, y_score))"
   ]
  },
  {
   "cell_type": "markdown",
   "metadata": {},
   "source": [
    "ROC, AUC score"
   ]
  },
  {
   "cell_type": "markdown",
   "metadata": {},
   "source": [
    "### Performance of random forest on test-set"
   ]
  },
  {
   "cell_type": "markdown",
   "metadata": {},
   "source": [
    "AUC score 0.818 for RandomForestClassifier on test set. Similarly, it managed to classify many of the True Positives well, but at the cost of classifying relatively large proportion of False Positives."
   ]
  },
  {
   "cell_type": "code",
   "execution_count": 21,
   "metadata": {},
   "outputs": [
    {
     "name": "stdout",
     "output_type": "stream",
     "text": [
      "              precision    recall  f1-score   support\n",
      "\n",
      "           0       0.98      0.64      0.77      8636\n",
      "           1       0.28      0.91      0.43      1364\n",
      "\n",
      "    accuracy                           0.67     10000\n",
      "   macro avg       0.63      0.77      0.60     10000\n",
      "weighted avg       0.88      0.67      0.72     10000\n",
      "\n",
      "[[5499 3137]\n",
      " [ 125 1239]]\n",
      "\n",
      "\n",
      "Area under curve: 0.8179244219451005\n"
     ]
    }
   ],
   "source": [
    "rf_clf.fit(train_cov,train_target)\n",
    "pred = rf_clf.predict(test_cov)\n",
    "print(classification_report(test_target, pred))\n",
    "y_score = rf_clf.predict_proba(test_cov)[:,1]\n",
    "confu_mat_rf = confusion_matrix(test_target, pred)\n",
    "print(confu_mat_rf)\n",
    "print('\\n')\n",
    "print('Area under curve:', roc_auc_score(test_target, y_score))"
   ]
  },
  {
   "cell_type": "markdown",
   "metadata": {},
   "source": [
    "# Logistic Regression"
   ]
  },
  {
   "cell_type": "code",
   "execution_count": 22,
   "metadata": {
    "scrolled": true
   },
   "outputs": [
    {
     "name": "stdout",
     "output_type": "stream",
     "text": [
      "{'C': 0.25, 'class_weight': 'balanced'}\n"
     ]
    },
    {
     "data": {
      "text/plain": [
       "LogisticRegression(C=0.5, class_weight='balanced')"
      ]
     },
     "execution_count": 22,
     "metadata": {},
     "output_type": "execute_result"
    }
   ],
   "source": [
    "from sklearn.linear_model import LogisticRegressionCV, LogisticRegression\n",
    "from sklearn.metrics import accuracy_score, confusion_matrix, roc_auc_score,classification_report \n",
    "\n",
    "# Initiate Logistic Regression classifier\n",
    "\n",
    "param_grid = {'C': [0.001, 0.05, 0.01, 0.05, 0.1, 0.25, 0.5, 1, 5, 10, 15, 50, 100, 1000],\n",
    "             'class_weight':[\"balanced\", \"balanced_subsample\",None]}\n",
    "lr_random = GridSearchCV(estimator = LogisticRegression(), \n",
    "                               param_grid = param_grid,\n",
    "                               scoring = 'roc_auc',\n",
    "                               #n_iter = n_models, \n",
    "                               cv = 5, \n",
    "                               n_jobs = -1,\n",
    "                              return_train_score = True)\n",
    "lr_random.fit(x_train, y_train)\n",
    "print(lr_random.best_params_)\n",
    "\n",
    "LR = LogisticRegression(C = 0.25,class_weight= 'balanced') \n",
    "LR.fit(train_cov,train_target)"
   ]
  },
  {
   "cell_type": "code",
   "execution_count": 23,
   "metadata": {},
   "outputs": [
    {
     "data": {
      "text/html": [
       "<div>\n",
       "<style scoped>\n",
       "    .dataframe tbody tr th:only-of-type {\n",
       "        vertical-align: middle;\n",
       "    }\n",
       "\n",
       "    .dataframe tbody tr th {\n",
       "        vertical-align: top;\n",
       "    }\n",
       "\n",
       "    .dataframe thead th {\n",
       "        text-align: right;\n",
       "    }\n",
       "</style>\n",
       "<table border=\"1\" class=\"dataframe\">\n",
       "  <thead>\n",
       "    <tr style=\"text-align: right;\">\n",
       "      <th></th>\n",
       "      <th>features</th>\n",
       "      <th>coef</th>\n",
       "    </tr>\n",
       "  </thead>\n",
       "  <tbody>\n",
       "    <tr>\n",
       "      <th>0</th>\n",
       "      <td>Age</td>\n",
       "      <td>-0.365379</td>\n",
       "    </tr>\n",
       "    <tr>\n",
       "      <th>1</th>\n",
       "      <td>Annual_Premium</td>\n",
       "      <td>-0.266777</td>\n",
       "    </tr>\n",
       "    <tr>\n",
       "      <th>2</th>\n",
       "      <td>Vintage</td>\n",
       "      <td>-0.001713</td>\n",
       "    </tr>\n",
       "    <tr>\n",
       "      <th>3</th>\n",
       "      <td>Region_Code_3</td>\n",
       "      <td>0.016063</td>\n",
       "    </tr>\n",
       "    <tr>\n",
       "      <th>4</th>\n",
       "      <td>Region_Code_8</td>\n",
       "      <td>-0.164416</td>\n",
       "    </tr>\n",
       "    <tr>\n",
       "      <th>5</th>\n",
       "      <td>Region_Code_11</td>\n",
       "      <td>0.590630</td>\n",
       "    </tr>\n",
       "    <tr>\n",
       "      <th>6</th>\n",
       "      <td>Region_Code_15</td>\n",
       "      <td>-0.552953</td>\n",
       "    </tr>\n",
       "    <tr>\n",
       "      <th>7</th>\n",
       "      <td>Region_Code_28</td>\n",
       "      <td>0.148800</td>\n",
       "    </tr>\n",
       "    <tr>\n",
       "      <th>8</th>\n",
       "      <td>Region_Code_29</td>\n",
       "      <td>0.255363</td>\n",
       "    </tr>\n",
       "    <tr>\n",
       "      <th>9</th>\n",
       "      <td>Region_Code_30</td>\n",
       "      <td>-0.020248</td>\n",
       "    </tr>\n",
       "    <tr>\n",
       "      <th>10</th>\n",
       "      <td>Region_Code_41</td>\n",
       "      <td>0.325861</td>\n",
       "    </tr>\n",
       "    <tr>\n",
       "      <th>11</th>\n",
       "      <td>Region_Code_46</td>\n",
       "      <td>-0.402178</td>\n",
       "    </tr>\n",
       "    <tr>\n",
       "      <th>12</th>\n",
       "      <td>Region_Code_50</td>\n",
       "      <td>-0.199792</td>\n",
       "    </tr>\n",
       "    <tr>\n",
       "      <th>13</th>\n",
       "      <td>Vehicle_Age_1-2 Year</td>\n",
       "      <td>0.326435</td>\n",
       "    </tr>\n",
       "    <tr>\n",
       "      <th>14</th>\n",
       "      <td>Vehicle_Age_&lt; 1 Year</td>\n",
       "      <td>-0.829235</td>\n",
       "    </tr>\n",
       "    <tr>\n",
       "      <th>15</th>\n",
       "      <td>Vehicle_Age_&gt; 2 Years</td>\n",
       "      <td>0.499930</td>\n",
       "    </tr>\n",
       "    <tr>\n",
       "      <th>16</th>\n",
       "      <td>Vehicle_Damage_True</td>\n",
       "      <td>4.005857</td>\n",
       "    </tr>\n",
       "    <tr>\n",
       "      <th>17</th>\n",
       "      <td>Gender_Male</td>\n",
       "      <td>0.090729</td>\n",
       "    </tr>\n",
       "  </tbody>\n",
       "</table>\n",
       "</div>"
      ],
      "text/plain": [
       "                 features      coef\n",
       "0                     Age -0.365379\n",
       "1          Annual_Premium -0.266777\n",
       "2                 Vintage -0.001713\n",
       "3           Region_Code_3  0.016063\n",
       "4           Region_Code_8 -0.164416\n",
       "5          Region_Code_11  0.590630\n",
       "6          Region_Code_15 -0.552953\n",
       "7          Region_Code_28  0.148800\n",
       "8          Region_Code_29  0.255363\n",
       "9          Region_Code_30 -0.020248\n",
       "10         Region_Code_41  0.325861\n",
       "11         Region_Code_46 -0.402178\n",
       "12         Region_Code_50 -0.199792\n",
       "13   Vehicle_Age_1-2 Year  0.326435\n",
       "14   Vehicle_Age_< 1 Year -0.829235\n",
       "15  Vehicle_Age_> 2 Years  0.499930\n",
       "16    Vehicle_Damage_True  4.005857\n",
       "17            Gender_Male  0.090729"
      ]
     },
     "execution_count": 23,
     "metadata": {},
     "output_type": "execute_result"
    }
   ],
   "source": [
    "# print out coefficients in a table\n",
    "pd.DataFrame(zip(x_train.columns, np.transpose(LR.coef_.tolist()[0])), columns=['features', 'coef'])"
   ]
  },
  {
   "cell_type": "markdown",
   "metadata": {},
   "source": [
    "### Performance of Logistic Regression on training-set"
   ]
  },
  {
   "cell_type": "code",
   "execution_count": 24,
   "metadata": {},
   "outputs": [
    {
     "name": "stdout",
     "output_type": "stream",
     "text": [
      "              precision    recall  f1-score   support\n",
      "\n",
      "           0       0.99      0.60      0.75      6506\n",
      "           1       0.27      0.96      0.42       994\n",
      "\n",
      "    accuracy                           0.65      7500\n",
      "   macro avg       0.63      0.78      0.58      7500\n",
      "weighted avg       0.89      0.65      0.70      7500\n",
      "\n",
      "[[3887 2619]\n",
      " [  39  955]]\n",
      "\n",
      "\n",
      "Area under curve: 0.823760268342301\n"
     ]
    }
   ],
   "source": [
    "LR.fit(x_train,y_train)\n",
    "pred = LR.predict(x_train)\n",
    "print(classification_report(y_train, pred))\n",
    "y_score = LR.predict_proba(x_train)[:,1]\n",
    "confu_mat_lr = confusion_matrix(y_train, pred)\n",
    "print(confu_mat_lr)\n",
    "print('\\n')\n",
    "print('Area under curve:', roc_auc_score(y_train, y_score))"
   ]
  },
  {
   "cell_type": "markdown",
   "metadata": {},
   "source": [
    "### Performance of Logistic Regression on validation-set"
   ]
  },
  {
   "cell_type": "markdown",
   "metadata": {},
   "source": [
    "The AUC score of Logistic Regression is 0.817. However, it managed to classify True Positives better with a larger number of True Positives than Random Forest."
   ]
  },
  {
   "cell_type": "code",
   "execution_count": 25,
   "metadata": {},
   "outputs": [
    {
     "name": "stdout",
     "output_type": "stream",
     "text": [
      "              precision    recall  f1-score   support\n",
      "\n",
      "           0       0.99      0.59      0.74      2168\n",
      "           1       0.26      0.96      0.41       332\n",
      "\n",
      "    accuracy                           0.64      2500\n",
      "   macro avg       0.63      0.77      0.58      2500\n",
      "weighted avg       0.89      0.64      0.70      2500\n",
      "\n",
      "[[1277  891]\n",
      " [  14  318]]\n",
      "\n",
      "\n",
      "Area under curve: 0.8165387565020228\n"
     ]
    }
   ],
   "source": [
    "#x_train, x_test, y_train, y_test\n",
    "\n",
    "LR.fit(x_train,y_train)\n",
    "pred = LR.predict(x_test)\n",
    "print(classification_report(y_test, pred))\n",
    "y_score = LR.predict_proba(x_test)[:,1]\n",
    "confu_mat_lr = confusion_matrix(y_test, pred)\n",
    "print(confu_mat_lr)\n",
    "print('\\n')\n",
    "print('Area under curve:', roc_auc_score(y_test, y_score))"
   ]
  },
  {
   "cell_type": "markdown",
   "metadata": {},
   "source": [
    "### Performance of Logistic Regression on test-set"
   ]
  },
  {
   "cell_type": "markdown",
   "metadata": {},
   "source": [
    "The AUC score of Logistic Regression is 0.818, on test set."
   ]
  },
  {
   "cell_type": "code",
   "execution_count": 26,
   "metadata": {},
   "outputs": [
    {
     "name": "stdout",
     "output_type": "stream",
     "text": [
      "0.6342\n",
      "accuracy score : 0.6342\n",
      "roc_auc score : 0.8183249905938315\n",
      "confusion matrix : [[5048 3588]\n",
      " [  70 1294]]\n",
      "              precision    recall  f1-score   support\n",
      "\n",
      "           0       0.99      0.58      0.73      8636\n",
      "           1       0.27      0.95      0.41      1364\n",
      "\n",
      "    accuracy                           0.63     10000\n",
      "   macro avg       0.63      0.77      0.57     10000\n",
      "weighted avg       0.89      0.63      0.69     10000\n",
      "\n"
     ]
    }
   ],
   "source": [
    "# test_target are actual Y from Prof test set\n",
    "# test_cov are actual X from Prof test_set\n",
    "\n",
    "# y_pred are predictions of labels made by model for each observation, given covariates\n",
    "# y_probs are the probability of each observation's label = 1\n",
    "# this model predicted all test labels to be 0\n",
    "\n",
    "LR.fit(train_cov,train_target)\n",
    "y_pred = LR.predict(test_cov)\n",
    "y_probs= LR.predict_proba(test_cov)[:,1] # this assumes threshold to be 0.5. need to modify threshold\n",
    "\n",
    "# print score\n",
    "print(LR.score(test_cov, test_target))\n",
    "\n",
    "# print accuracy score\n",
    "acc = accuracy_score(test_target, y_pred)\n",
    "print(\"accuracy score :\", acc)\n",
    "\n",
    "# print roc accuracy score\n",
    "roc  = roc_auc_score(test_target, y_probs)\n",
    "print(\"roc_auc score :\", roc)\n",
    "\n",
    "# print confusion matrix\n",
    "confu_mat = confusion_matrix(test_target, y_pred)\n",
    "print(\"confusion matrix :\", confu_mat)\n",
    "\n",
    "print(classification_report(test_target, y_pred))"
   ]
  },
  {
   "cell_type": "markdown",
   "metadata": {},
   "source": [
    "# Decision Tree"
   ]
  },
  {
   "cell_type": "code",
   "execution_count": 34,
   "metadata": {},
   "outputs": [
    {
     "name": "stdout",
     "output_type": "stream",
     "text": [
      "Best hyperparameters:\n",
      " {'class_weight': 'balanced', 'max_depth': 5, 'max_features': 'auto', 'min_samples_leaf': 0.04}\n"
     ]
    }
   ],
   "source": [
    "from sklearn.tree import DecisionTreeClassifier\n",
    "from sklearn.model_selection import GridSearchCV\n",
    "from sklearn.metrics import accuracy_score, confusion_matrix, roc_auc_score,classification_report \n",
    "\n",
    "# Instantiate a DecisionTreeClassifier 'dt'\n",
    "dt = DecisionTreeClassifier(random_state=1)\n",
    "                            \n",
    "#Define grid of hyperparams'params_dt'\n",
    "params_dt = {\n",
    "            'max_depth': [3, 4, 5, 6, 7, 8], \n",
    "            'min_samples_leaf': [0.04, 0.06, 0.08, 0.10, 0.12], \n",
    "            'max_features': ['auto', 'sqrt', 'log2'],\n",
    "            'class_weight': [\"balanced\", \"balanced_subsample\",None]\n",
    "            }\n",
    "\n",
    "# Instantiate a 5-fold CV grid search object 'grid_dt'\n",
    "grid_dt = GridSearchCV(estimator=dt, \n",
    "                       param_grid=params_dt,\n",
    "                       scoring='roc_auc',\n",
    "                       cv = 5, \n",
    "                       n_jobs = -1,\n",
    "                       return_train_score = True)\n",
    "\n",
    "grid_dt.fit(x_train, y_train)\n",
    "print('Best hyperparameters:\\n', grid_dt.best_params_)\n",
    "\n",
    "dt = DecisionTreeClassifier(max_depth = 5,\n",
    "                           max_features = 'auto',\n",
    "                           min_samples_leaf = 0.04,\n",
    "                           class_weight = 'balanced')"
   ]
  },
  {
   "cell_type": "markdown",
   "metadata": {},
   "source": [
    "### Performance of Decision Tree on training-set"
   ]
  },
  {
   "cell_type": "code",
   "execution_count": 56,
   "metadata": {},
   "outputs": [
    {
     "name": "stdout",
     "output_type": "stream",
     "text": [
      "              precision    recall  f1-score   support\n",
      "\n",
      "           0       0.95      0.63      0.76      6506\n",
      "           1       0.24      0.77      0.37       994\n",
      "\n",
      "    accuracy                           0.65      7500\n",
      "   macro avg       0.59      0.70      0.56      7500\n",
      "weighted avg       0.85      0.65      0.71      7500\n",
      "\n",
      "[[4102 2404]\n",
      " [ 226  768]]\n",
      "\n",
      "\n",
      "Area under curve: 0.7448651330052247\n"
     ]
    }
   ],
   "source": [
    "dt.fit(x_train,y_train)\n",
    "pred = dt.predict(x_train)\n",
    "print(classification_report(y_train, pred))\n",
    "y_score = dt.predict_proba(x_train)[:,1]\n",
    "confu_mat_dt = confusion_matrix(y_train, pred)\n",
    "print(confu_mat_dt)\n",
    "print('\\n')\n",
    "print('Area under curve:', roc_auc_score(y_train, y_score))"
   ]
  },
  {
   "cell_type": "markdown",
   "metadata": {},
   "source": [
    "### Performance of Decision Tree on validation set"
   ]
  },
  {
   "cell_type": "markdown",
   "metadata": {},
   "source": [
    "The decision tree in classifying number of True Positives, outperformed the Random Forest and Logistic Regression classifiers\n",
    "\n",
    "The AUC score for decision tree is 0.780\n",
    "\n",
    "Generally, the AUC scores for the 3 models were pretty even, with  the Decision Tree slightly better than Logistic Regression."
   ]
  },
  {
   "cell_type": "code",
   "execution_count": 50,
   "metadata": {},
   "outputs": [
    {
     "name": "stdout",
     "output_type": "stream",
     "text": [
      "              precision    recall  f1-score   support\n",
      "\n",
      "           0       0.99      0.59      0.74      2168\n",
      "           1       0.27      0.96      0.42       332\n",
      "\n",
      "    accuracy                           0.64      2500\n",
      "   macro avg       0.63      0.78      0.58      2500\n",
      "weighted avg       0.89      0.64      0.70      2500\n",
      "\n",
      "[[1289  879]\n",
      " [  13  319]]\n",
      "\n",
      "\n",
      "Area under curve: 0.779762037078202\n"
     ]
    }
   ],
   "source": [
    "#x_train, x_test, y_train, y_test\n",
    "dt.fit(x_train,y_train)\n",
    "pred = dt.predict(x_test)\n",
    "print(classification_report(y_test, pred))\n",
    "y_score = dt.predict_proba(x_test)[:,1]\n",
    "confu_mat_dt = confusion_matrix(y_test, pred)\n",
    "print(confu_mat_dt)\n",
    "print('\\n')\n",
    "print('Area under curve:', roc_auc_score(y_test, y_score))"
   ]
  },
  {
   "cell_type": "markdown",
   "metadata": {},
   "source": [
    "### Performance of Decision Tree on test-set"
   ]
  },
  {
   "cell_type": "markdown",
   "metadata": {},
   "source": [
    "However the Decision Tree performed extremely poorly on the test set, which suffered from the issue of imbalanced classes. At a 0.5 threshold, it classfied all test observations' labels to be negative, meaning it failed to even classify even 1 of the test observations' correctly, despite the high accuracy score of 0.86, with the auc score at 0.797"
   ]
  },
  {
   "cell_type": "code",
   "execution_count": 51,
   "metadata": {},
   "outputs": [
    {
     "name": "stdout",
     "output_type": "stream",
     "text": [
      "accuracy score: 0.6611\n",
      "roc auc score: 0.7965561198502077\n",
      "confusion matrix:\n",
      " [[5363 3273]\n",
      " [ 116 1248]]\n",
      "              precision    recall  f1-score   support\n",
      "\n",
      "           0       0.98      0.62      0.76      8636\n",
      "           1       0.28      0.91      0.42      1364\n",
      "\n",
      "    accuracy                           0.66     10000\n",
      "   macro avg       0.63      0.77      0.59     10000\n",
      "weighted avg       0.88      0.66      0.71     10000\n",
      "\n"
     ]
    }
   ],
   "source": [
    "dt.fit(train_cov, train_target)\n",
    "dt_y_pred = dt.predict(test_cov)\n",
    "dt_y_proba = dt.predict_proba(test_cov)[:, 1]\n",
    "\n",
    "#print accuracy score\n",
    "print('accuracy score:', accuracy_score(dt_y_pred, test_target))\n",
    "\n",
    "#print roc accuracy score\n",
    "print('roc auc score:', roc_auc_score(test_target, dt_y_proba))\n",
    "\n",
    "#print confumtx\n",
    "print('confusion matrix:\\n', confusion_matrix(test_target, dt_y_pred))\n",
    "\n",
    "print(classification_report(test_target, dt_y_pred))"
   ]
  },
  {
   "cell_type": "markdown",
   "metadata": {},
   "source": [
    "# Q1"
   ]
  },
  {
   "cell_type": "markdown",
   "metadata": {},
   "source": []
  },
  {
   "cell_type": "markdown",
   "metadata": {},
   "source": [
    "# Q2\n",
    "\n",
    "Note that for question 2 and 3, our model uses the training and validation sets, not the test sets (*test_cov* and *test_target*)"
   ]
  },
  {
   "cell_type": "code",
   "execution_count": 31,
   "metadata": {},
   "outputs": [
    {
     "name": "stdout",
     "output_type": "stream",
     "text": [
      "\n",
      "******** For threshold = 0.01 ******\n",
      "confusion matrix : [[   0 2168]\n",
      " [   0  332]]\n",
      "0\n",
      "0\n",
      "332\n",
      "2168\n",
      "benefit: -3516\n",
      "True Positive Rate: 1.0\n",
      "False Positive Rate 1.0\n",
      "\n",
      "******** For threshold = 0.1 ******\n",
      "confusion matrix : [[1196  972]\n",
      " [   7  325]]\n",
      "1196\n",
      "7\n",
      "325\n",
      "972\n",
      "benefit: -61\n",
      "True Positive Rate: 0.9789156626506024\n",
      "False Positive Rate 0.4483394833948339\n",
      "\n",
      "******** For threshold = 0.2 ******\n",
      "confusion matrix : [[1196  972]\n",
      " [   7  325]]\n",
      "1196\n",
      "7\n",
      "325\n",
      "972\n",
      "benefit: -61\n",
      "True Positive Rate: 0.9789156626506024\n",
      "False Positive Rate 0.4483394833948339\n",
      "\n",
      "******** For threshold = 0.5 ******\n",
      "confusion matrix : [[1277  891]\n",
      " [  14  318]]\n",
      "1277\n",
      "14\n",
      "318\n",
      "891\n",
      "benefit: 49\n",
      "True Positive Rate: 0.9578313253012049\n",
      "False Positive Rate 0.4109778597785978\n",
      "\n",
      "****************\n",
      "True Positive List: [332, 325, 325, 318] \n",
      "\n",
      "False Positive List: [2168, 972, 972, 891] \n",
      "\n",
      "\n",
      "****************\n",
      "True Positive Rate List: [1.0, 0.9789156626506024, 0.9789156626506024, 0.9578313253012049] \n",
      "\n",
      "False Positive Rate List: [1.0, 0.4483394833948339, 0.4483394833948339, 0.4109778597785978] \n",
      "\n"
     ]
    }
   ],
   "source": [
    "threshold_list = [0.01,0.1,0.2,0.5]\n",
    "tp_list = []\n",
    "fp_list = [] \n",
    "tp_rate_list = []\n",
    "fp_rate_list = []\n",
    "\n",
    "LR.fit(x_train,y_train)\n",
    "\n",
    "for i in threshold_list:\n",
    "    print ('\\n******** For threshold = {} ******'.format(i))\n",
    "    decisions = (LR.predict_proba(x_test)[:,1] >= i).astype(int)\n",
    "    cm = confusion_matrix(y_test, decisions)\n",
    "    print(\"confusion matrix :\", cm)\n",
    "    \n",
    "    TN, FP, FN, TP = cm[0][0], cm[0][1], cm[1][0], cm[1][1]\n",
    "    \n",
    "    print(TN)\n",
    "    print(FN)\n",
    "    print(TP)\n",
    "    print(FP)\n",
    "\n",
    "    benefit_structure = (TP*10) + (FN*-10) + (FP*-2) + ((TP+FP)*-1)\n",
    "    print(\"benefit:\", benefit_structure)\n",
    "    tp_rate = (TP)/(TP + FN)\n",
    "    fp_rate = (FP)/(FP + TN)\n",
    "    print(\"True Positive Rate:\", tp_rate)\n",
    "    print(\"False Positive Rate\", fp_rate)\n",
    "    fp_list.append(FP)\n",
    "    tp_list.append(TP)\n",
    "    tp_rate_list.append(tp_rate)\n",
    "    fp_rate_list.append(fp_rate)\n",
    "    \n",
    "print('\\n****************')\n",
    "print('True Positive List:' ,tp_list, '\\n')\n",
    "print('False Positive List:' ,fp_list, '\\n')\n",
    "\n",
    "print('\\n****************')\n",
    "print('True Positive Rate List:' ,tp_rate_list, '\\n')\n",
    "print('False Positive Rate List:' ,fp_rate_list, '\\n')"
   ]
  },
  {
   "cell_type": "markdown",
   "metadata": {},
   "source": [
    "## Plot ROC-AUC curve"
   ]
  },
  {
   "cell_type": "code",
   "execution_count": 32,
   "metadata": {},
   "outputs": [
    {
     "data": {
      "image/png": "[encoded data removed]",
      "text/plain": [
       "<Figure size 432x288 with 1 Axes>"
      ]
     },
     "metadata": {
      "needs_background": "light"
     },
     "output_type": "display_data"
    },
    {
     "name": "stdout",
     "output_type": "stream",
     "text": [
      "Area under curve (AUC):  0.8165387565020228\n"
     ]
    }
   ],
   "source": [
    "import matplotlib.pyplot as plt\n",
    "from sklearn.metrics import roc_curve, auc\n",
    "probs = LR.predict_proba(x_test)[:,1]\n",
    "fpr, tpr, thresholds = roc_curve(y_test, probs)\n",
    "roc_auc = auc(fpr, tpr)\n",
    "\n",
    "plt.title('ROC - Logistic Regression')\n",
    "plt.xlabel('False Positive Rate')\n",
    "plt.ylabel('True Positive Rate')\n",
    "\n",
    "plt.plot(fpr,tpr, label = 'AUC = %0.2f' % roc_auc)\n",
    "plt.legend(loc = 'lower right')\n",
    "plt.plot((0,1), ls='dashed',color='black')\n",
    "plt.show()\n",
    "print ('Area under curve (AUC): ', auc(fpr,tpr))\n",
    "\n"
   ]
  },
  {
   "cell_type": "markdown",
   "metadata": {},
   "source": [
    "# Q3"
   ]
  },
  {
   "cell_type": "code",
   "execution_count": 33,
   "metadata": {},
   "outputs": [
    {
     "name": "stdout",
     "output_type": "stream",
     "text": [
      "\n",
      "******** For threshold = 0.01 ******\n",
      "confusion matrix : [[   0 2168]\n",
      " [   0  332]]\n",
      "benefit: 26364\n",
      "True Positive Rate: 1.0\n",
      "False Positive Rate 1.0\n",
      "\n",
      "******** For threshold = 0.1 ******\n",
      "confusion matrix : [[1196  972]\n",
      " [   7  325]]\n",
      "benefit: 28559\n",
      "True Positive Rate: 0.9789156626506024\n",
      "False Positive Rate 0.4483394833948339\n",
      "\n",
      "******** For threshold = 0.2 ******\n",
      "confusion matrix : [[1196  972]\n",
      " [   7  325]]\n",
      "benefit: 28559\n",
      "True Positive Rate: 0.9789156626506024\n",
      "False Positive Rate 0.4483394833948339\n",
      "\n",
      "******** For threshold = 0.5 ******\n",
      "confusion matrix : [[1277  891]\n",
      " [  14  318]]\n",
      "benefit: 27409\n",
      "True Positive Rate: 0.9578313253012049\n",
      "False Positive Rate 0.4109778597785978\n",
      "\n",
      "****************\n",
      "True Positive List: [332, 325, 325, 318] \n",
      "\n",
      "False Positive List: [2168, 972, 972, 891] \n",
      "\n",
      "\n",
      "****************\n",
      "True Positive Rate List: [1.0, 0.9789156626506024, 0.9789156626506024, 0.9578313253012049] \n",
      "\n",
      "False Positive Rate List: [1.0, 0.4483394833948339, 0.4483394833948339, 0.4109778597785978] \n",
      "\n"
     ]
    }
   ],
   "source": [
    "threshold_list = [0.01,0.1,0.2,0.5]\n",
    "tp_list = []\n",
    "fp_list = [] \n",
    "tp_rate_list = []\n",
    "fp_rate_list = []\n",
    "\n",
    "for i in threshold_list:\n",
    "    print ('\\n******** For threshold = {} ******'.format(i))\n",
    "    decisions = (LR.predict_proba(x_test)[:,1] >= i).astype(int)\n",
    "    cm = confusion_matrix(y_test, decisions)\n",
    "    print(\"confusion matrix :\", cm)\n",
    "    \n",
    "    TN, FP, FN, TP = cm[0][0], cm[0][1], cm[1][0], cm[1][1]\n",
    "\n",
    "    benefit_structure = (TP*100) + (FN*-100) + (FP*-2) + ((TP+FP)*-1)\n",
    "    print(\"benefit:\", benefit_structure)\n",
    "    tp_rate = (TP)/(TP + FN)\n",
    "    fp_rate = (FP)/(FP + TN)\n",
    "    print(\"True Positive Rate:\", tp_rate)\n",
    "    print(\"False Positive Rate\", fp_rate)\n",
    "    fp_list.append(FP)\n",
    "    tp_list.append(TP)\n",
    "    tp_rate_list.append(tp_rate)\n",
    "    fp_rate_list.append(fp_rate)\n",
    "    \n",
    "print('\\n****************')\n",
    "print('True Positive List:' ,tp_list, '\\n')\n",
    "print('False Positive List:' ,fp_list, '\\n')\n",
    "\n",
    "print('\\n****************')\n",
    "print('True Positive Rate List:' ,tp_rate_list, '\\n')\n",
    "print('False Positive Rate List:' ,fp_rate_list, '\\n')"
   ]
  },
  {
   "cell_type": "code",
   "execution_count": null,
   "metadata": {},
   "outputs": [],
   "source": []
  },
  {
   "cell_type": "code",
   "execution_count": null,
   "metadata": {},
   "outputs": [],
   "source": []
  }
 ],
 "metadata": {
  "kernelspec": {
   "display_name": "Python 3",
   "language": "python",
   "name": "python3"
  },
  "language_info": {
   "codemirror_mode": {
    "name": "ipython",
    "version": 3
   },
   "file_extension": ".py",
   "mimetype": "text/x-python",
   "name": "python",
   "nbconvert_exporter": "python",
   "pygments_lexer": "ipython3",
   "version": "3.7.3"
  }
 },
 "nbformat": 4,
 "nbformat_minor": 4
}
